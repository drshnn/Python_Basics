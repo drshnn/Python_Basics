{
  "nbformat": 4,
  "nbformat_minor": 0,
  "metadata": {
    "colab": {
      "name": "Python_basics_for_data_science.ipynb",
      "provenance": []
    },
    "kernelspec": {
      "name": "python3",
      "display_name": "Python 3"
    }
  },
  "cells": [
    {
      "cell_type": "markdown",
      "metadata": {
        "id": "g7PXL1zz9KHQ",
        "colab_type": "text"
      },
      "source": [
        "#Classes and Functions"
      ]
    },
    {
      "cell_type": "code",
      "metadata": {
        "id": "2qg-Hx5E9LN-",
        "colab_type": "code",
        "colab": {}
      },
      "source": [
        "class Person:\n",
        "  department = 'School Of information'\n",
        "  def set_name(self,new_name):\n",
        "    self.name = new_name"
      ],
      "execution_count": 0,
      "outputs": []
    },
    {
      "cell_type": "code",
      "metadata": {
        "id": "7dKmEn3iKGYA",
        "colab_type": "code",
        "colab": {
          "base_uri": "https://localhost:8080/",
          "height": 34
        },
        "outputId": "483d61f9-449d-4841-f640-2dac9de6868c"
      },
      "source": [
        "x= Person()\n",
        "x.set_name('Darshan')\n",
        "print('{} lives in india'.format(x.name))"
      ],
      "execution_count": 235,
      "outputs": [
        {
          "output_type": "stream",
          "text": [
            "Darshan lives in india\n"
          ],
          "name": "stdout"
        }
      ]
    },
    {
      "cell_type": "markdown",
      "metadata": {
        "id": "f83wNKK3fT0e",
        "colab_type": "text"
      },
      "source": [
        "#map()"
      ]
    },
    {
      "cell_type": "code",
      "metadata": {
        "id": "FtgCEEdaLTJx",
        "colab_type": "code",
        "colab": {}
      },
      "source": [
        "store1 = [10.1,0.23,12.56,14.2]\n",
        "store2 = [5.5,2.2,1.,14.3]"
      ],
      "execution_count": 0,
      "outputs": []
    },
    {
      "cell_type": "code",
      "metadata": {
        "id": "dKaNtidEMBBh",
        "colab_type": "code",
        "colab": {
          "base_uri": "https://localhost:8080/",
          "height": 50
        },
        "outputId": "3f1ea3e4-9b75-4e32-8e59-af50ef59f30b"
      },
      "source": [
        "print(map(min,store1,store2))\n",
        "list(map(min,store1,store2))"
      ],
      "execution_count": 78,
      "outputs": [
        {
          "output_type": "stream",
          "text": [
            "<map object at 0x7f6e2e391a90>\n"
          ],
          "name": "stdout"
        },
        {
          "output_type": "execute_result",
          "data": {
            "text/plain": [
              "[5.5, 0.23, 1.0, 14.2]"
            ]
          },
          "metadata": {
            "tags": []
          },
          "execution_count": 78
        }
      ]
    },
    {
      "cell_type": "code",
      "metadata": {
        "id": "f08XNtCpMG83",
        "colab_type": "code",
        "colab": {
          "base_uri": "https://localhost:8080/",
          "height": 34
        },
        "outputId": "1d9f71e8-7b45-427d-c534-d4bcd7daef54"
      },
      "source": [
        "names = ['Dr.Darshan Suthar','Dr.shubhas rao','Dr.Ram Chandra']\n",
        "\n",
        "def split_titless_lastname(lsname):\n",
        "  titles = lsname.split('.')[0]\n",
        "  lastname = lsname.split()[-1]\n",
        "  return '{}. {}'.format(titles,lastname)\n",
        "\n",
        "list(map(split_titless_lastname,names))"
      ],
      "execution_count": 18,
      "outputs": [
        {
          "output_type": "execute_result",
          "data": {
            "text/plain": [
              "['Dr. Suthar', 'Dr. rao', 'Dr. Chandra']"
            ]
          },
          "metadata": {
            "tags": []
          },
          "execution_count": 18
        }
      ]
    },
    {
      "cell_type": "markdown",
      "metadata": {
        "id": "MIoaNgxFaWkp",
        "colab_type": "text"
      },
      "source": [
        "#How to use lambda "
      ]
    },
    {
      "cell_type": "code",
      "metadata": {
        "id": "sRY0ikgEaV8H",
        "colab_type": "code",
        "colab": {
          "base_uri": "https://localhost:8080/",
          "height": 34
        },
        "outputId": "58782484-2699-4df8-f302-16ef468a0960"
      },
      "source": [
        "x = lambda a,b,c : (a+b)*c\n",
        "print(x(1,2,3))"
      ],
      "execution_count": 28,
      "outputs": [
        {
          "output_type": "stream",
          "text": [
            "9\n"
          ],
          "name": "stdout"
        }
      ]
    },
    {
      "cell_type": "markdown",
      "metadata": {
        "id": "KrzCNpAOZ_CH",
        "colab_type": "text"
      },
      "source": [
        "#Create list of even number between 0 and 1000"
      ]
    },
    {
      "cell_type": "code",
      "metadata": {
        "id": "wnJVZSL6N8_8",
        "colab_type": "code",
        "colab": {}
      },
      "source": [
        "even = []\n",
        "\n",
        "for number in range(0,1000):\n",
        "  if number % 2 == 0:\n",
        "    even.append(number)\n",
        "\n",
        "# print(even)"
      ],
      "execution_count": 0,
      "outputs": []
    },
    {
      "cell_type": "markdown",
      "metadata": {
        "id": "txTok9BAZx9r",
        "colab_type": "text"
      },
      "source": [
        "#Easy way to do it"
      ]
    },
    {
      "cell_type": "code",
      "metadata": {
        "id": "mhbq4sEhWFuy",
        "colab_type": "code",
        "colab": {}
      },
      "source": [
        "even = [number for number in range(0,1000) if number %2==0]\n",
        "# even"
      ],
      "execution_count": 0,
      "outputs": []
    },
    {
      "cell_type": "markdown",
      "metadata": {
        "id": "yhKot77xYz_b",
        "colab_type": "text"
      },
      "source": [
        "#Problem\n",
        "\n",
        "Many organizations have user ids which are constrained in some way. Imagine you work at an internet service provider and the user ids are all two letters followed by two numbers (e.g. aa49). Your task at such an organization might be to hold a record on the billing activity for each possible user.\n",
        "\n",
        "Write an initialization line as a single list comprehension which creates a list of all possible user ids. Assume the letters are all lower case."
      ]
    },
    {
      "cell_type": "code",
      "metadata": {
        "id": "TPD__ItxaN7Y",
        "colab_type": "code",
        "colab": {}
      },
      "source": [
        "lowercase = 'abcdefghijklmnopqrstuvwxyz'\n",
        "digits = '0123456789'\n",
        "\n",
        "ans = []\n",
        "\n",
        "for a in lowercase:\n",
        "  for b in lowercase:\n",
        "    for c in digits:\n",
        "      for d in digits:\n",
        "        ans.append(a+b+c+d)\n",
        "        "
      ],
      "execution_count": 0,
      "outputs": []
    },
    {
      "cell_type": "markdown",
      "metadata": {
        "id": "d8JSbXwob0cC",
        "colab_type": "text"
      },
      "source": [
        "#Easy way to do it"
      ]
    },
    {
      "cell_type": "code",
      "metadata": {
        "id": "bjp-9z8zWXYh",
        "colab_type": "code",
        "colab": {
          "base_uri": "https://localhost:8080/",
          "height": 34
        },
        "outputId": "34b9dc52-05ec-4726-e032-4f8fb5848f48"
      },
      "source": [
        "answer = [a+b+c+d for a in lowercase for b in lowercase for c in digits for d in digits]\n",
        "\n",
        "ans == answer"
      ],
      "execution_count": 32,
      "outputs": [
        {
          "output_type": "execute_result",
          "data": {
            "text/plain": [
              "True"
            ]
          },
          "metadata": {
            "tags": []
          },
          "execution_count": 32
        }
      ]
    },
    {
      "cell_type": "markdown",
      "metadata": {
        "id": "Qv9yLCAUZcag",
        "colab_type": "text"
      },
      "source": [
        "<h1> Numpy</h1>"
      ]
    },
    {
      "cell_type": "code",
      "metadata": {
        "id": "yv_MN0jZWY-0",
        "colab_type": "code",
        "colab": {}
      },
      "source": [
        "import numpy as np"
      ],
      "execution_count": 0,
      "outputs": []
    },
    {
      "cell_type": "markdown",
      "metadata": {
        "id": "qYa1gOwTcB77",
        "colab_type": "text"
      },
      "source": [
        "#Numpy arrays"
      ]
    },
    {
      "cell_type": "code",
      "metadata": {
        "id": "7sOgzWXuZP3X",
        "colab_type": "code",
        "colab": {
          "base_uri": "https://localhost:8080/",
          "height": 34
        },
        "outputId": "5e0788f4-29b4-41ff-99df-8fe0dcff062c"
      },
      "source": [
        "#1d array\n",
        "one_d = np.array([1,2,3])\n",
        "one_d.shape"
      ],
      "execution_count": 37,
      "outputs": [
        {
          "output_type": "execute_result",
          "data": {
            "text/plain": [
              "(3,)"
            ]
          },
          "metadata": {
            "tags": []
          },
          "execution_count": 37
        }
      ]
    },
    {
      "cell_type": "code",
      "metadata": {
        "id": "EujjU9DQcRQA",
        "colab_type": "code",
        "colab": {
          "base_uri": "https://localhost:8080/",
          "height": 34
        },
        "outputId": "a11e0ffc-713d-4729-81c5-b1c55fb6a166"
      },
      "source": [
        "#2d array or matrix\n",
        "two_d = np.array([[1,2,3],\n",
        "                  [4,5,6]])\n",
        "two_d.shape"
      ],
      "execution_count": 35,
      "outputs": [
        {
          "output_type": "execute_result",
          "data": {
            "text/plain": [
              "(2, 3)"
            ]
          },
          "metadata": {
            "tags": []
          },
          "execution_count": 35
        }
      ]
    },
    {
      "cell_type": "code",
      "metadata": {
        "id": "7yNOtE06c0E8",
        "colab_type": "code",
        "colab": {
          "base_uri": "https://localhost:8080/",
          "height": 34
        },
        "outputId": "586803fd-78ed-43da-9585-b1abd32b04bd"
      },
      "source": [
        "#3d array \n",
        "three_d = np.array([[[1,2,3],[4,5,6]],\n",
        "                    [[7,8,9],[10,11,12]],\n",
        "                    [[13,14,15],[16,17,18]]])\n",
        "three_d.shape"
      ],
      "execution_count": 39,
      "outputs": [
        {
          "output_type": "execute_result",
          "data": {
            "text/plain": [
              "(3, 2, 3)"
            ]
          },
          "metadata": {
            "tags": []
          },
          "execution_count": 39
        }
      ]
    },
    {
      "cell_type": "markdown",
      "metadata": {
        "id": "35lwjblCety9",
        "colab_type": "text"
      },
      "source": [
        "#(1) Arange"
      ]
    },
    {
      "cell_type": "code",
      "metadata": {
        "id": "pKMVp-ztdeZU",
        "colab_type": "code",
        "colab": {
          "base_uri": "https://localhost:8080/",
          "height": 34
        },
        "outputId": "3c53667d-106f-4b34-c1cf-e0e086ff5148"
      },
      "source": [
        "even = np.arange(0,30,2)\n",
        "even"
      ],
      "execution_count": 42,
      "outputs": [
        {
          "output_type": "execute_result",
          "data": {
            "text/plain": [
              "array([ 0,  2,  4,  6,  8, 10, 12, 14, 16, 18, 20, 22, 24, 26, 28])"
            ]
          },
          "metadata": {
            "tags": []
          },
          "execution_count": 42
        }
      ]
    },
    {
      "cell_type": "code",
      "metadata": {
        "id": "uafWnbzdd2SO",
        "colab_type": "code",
        "colab": {
          "base_uri": "https://localhost:8080/",
          "height": 34
        },
        "outputId": "b01db34e-9bfa-46ee-f660-d4e7e28a4983"
      },
      "source": [
        "odd = np.arange(1,30,2)\n",
        "odd"
      ],
      "execution_count": 44,
      "outputs": [
        {
          "output_type": "execute_result",
          "data": {
            "text/plain": [
              "array([ 1,  3,  5,  7,  9, 11, 13, 15, 17, 19, 21, 23, 25, 27, 29])"
            ]
          },
          "metadata": {
            "tags": []
          },
          "execution_count": 44
        }
      ]
    },
    {
      "cell_type": "markdown",
      "metadata": {
        "id": "kBqlZ13WeJsT",
        "colab_type": "text"
      },
      "source": [
        "#(2) Reshape"
      ]
    },
    {
      "cell_type": "code",
      "metadata": {
        "id": "K5qcjI4Hd_ev",
        "colab_type": "code",
        "colab": {
          "base_uri": "https://localhost:8080/",
          "height": 67
        },
        "outputId": "7dcb356b-50a4-4a5c-e278-5ea776718c39"
      },
      "source": [
        "re_even = even.reshape(3,5)\n",
        "re_even"
      ],
      "execution_count": 49,
      "outputs": [
        {
          "output_type": "execute_result",
          "data": {
            "text/plain": [
              "array([[ 0,  2,  4,  6,  8],\n",
              "       [10, 12, 14, 16, 18],\n",
              "       [20, 22, 24, 26, 28]])"
            ]
          },
          "metadata": {
            "tags": []
          },
          "execution_count": 49
        }
      ]
    },
    {
      "cell_type": "markdown",
      "metadata": {
        "id": "XxRM5fTNeqo0",
        "colab_type": "text"
      },
      "source": [
        "#(3) Linspace"
      ]
    },
    {
      "cell_type": "code",
      "metadata": {
        "id": "OMT6O-k2eW8o",
        "colab_type": "code",
        "colab": {
          "base_uri": "https://localhost:8080/",
          "height": 50
        },
        "outputId": "a7ce63eb-0367-41df-bc86-297ae92b00c3"
      },
      "source": [
        "spc = np.linspace(0,5,10)\n",
        "spc"
      ],
      "execution_count": 51,
      "outputs": [
        {
          "output_type": "execute_result",
          "data": {
            "text/plain": [
              "array([0.        , 0.55555556, 1.11111111, 1.66666667, 2.22222222,\n",
              "       2.77777778, 3.33333333, 3.88888889, 4.44444444, 5.        ])"
            ]
          },
          "metadata": {
            "tags": []
          },
          "execution_count": 51
        }
      ]
    },
    {
      "cell_type": "markdown",
      "metadata": {
        "id": "0zrs2DdLiRsT",
        "colab_type": "text"
      },
      "source": [
        "#(4) ones, zeros and eye"
      ]
    },
    {
      "cell_type": "code",
      "metadata": {
        "id": "ISeD0ekVe7VR",
        "colab_type": "code",
        "colab": {
          "base_uri": "https://localhost:8080/",
          "height": 84
        },
        "outputId": "a634bad1-b4c3-4666-9e89-c73e19fc0b94"
      },
      "source": [
        "#np.ones\n",
        "ones = np.ones([4,4])\n",
        "ones"
      ],
      "execution_count": 57,
      "outputs": [
        {
          "output_type": "execute_result",
          "data": {
            "text/plain": [
              "array([[1., 1., 1., 1.],\n",
              "       [1., 1., 1., 1.],\n",
              "       [1., 1., 1., 1.],\n",
              "       [1., 1., 1., 1.]])"
            ]
          },
          "metadata": {
            "tags": []
          },
          "execution_count": 57
        }
      ]
    },
    {
      "cell_type": "code",
      "metadata": {
        "id": "NODdkoaTidLD",
        "colab_type": "code",
        "colab": {
          "base_uri": "https://localhost:8080/",
          "height": 84
        },
        "outputId": "520c0d1f-0fd5-4496-ec63-a9218f9b034a"
      },
      "source": [
        "#np.zeros\n",
        "zeros = np.zeros([4,4])\n",
        "zeros"
      ],
      "execution_count": 60,
      "outputs": [
        {
          "output_type": "execute_result",
          "data": {
            "text/plain": [
              "array([[0., 0., 0., 0.],\n",
              "       [0., 0., 0., 0.],\n",
              "       [0., 0., 0., 0.],\n",
              "       [0., 0., 0., 0.]])"
            ]
          },
          "metadata": {
            "tags": []
          },
          "execution_count": 60
        }
      ]
    },
    {
      "cell_type": "code",
      "metadata": {
        "id": "HIQO5WYUisx6",
        "colab_type": "code",
        "colab": {
          "base_uri": "https://localhost:8080/",
          "height": 84
        },
        "outputId": "ba4f0a9b-5f19-4d0b-caf9-b9ddb5502467"
      },
      "source": [
        "#np.eye\n",
        "eye = np.eye(4)\n",
        "eye"
      ],
      "execution_count": 62,
      "outputs": [
        {
          "output_type": "execute_result",
          "data": {
            "text/plain": [
              "array([[1., 0., 0., 0.],\n",
              "       [0., 1., 0., 0.],\n",
              "       [0., 0., 1., 0.],\n",
              "       [0., 0., 0., 1.]])"
            ]
          },
          "metadata": {
            "tags": []
          },
          "execution_count": 62
        }
      ]
    },
    {
      "cell_type": "markdown",
      "metadata": {
        "id": "ql5966JojqmF",
        "colab_type": "text"
      },
      "source": [
        "#Repeat"
      ]
    },
    {
      "cell_type": "code",
      "metadata": {
        "id": "AZhRk6JHi1Ts",
        "colab_type": "code",
        "colab": {
          "base_uri": "https://localhost:8080/",
          "height": 50
        },
        "outputId": "00ee1fb8-a980-4ec4-a6da-22f3eb258188"
      },
      "source": [
        "#repeating without using np.repeat\n",
        "arr = np.array([1,2,3]*3,int)\n",
        "print(arr)\n",
        "\n",
        "#np.repeat\n",
        "a = np.array([1,2,3],int)\n",
        "np.repeat(a,3)"
      ],
      "execution_count": 67,
      "outputs": [
        {
          "output_type": "stream",
          "text": [
            "[1 2 3 1 2 3 1 2 3]\n"
          ],
          "name": "stdout"
        },
        {
          "output_type": "execute_result",
          "data": {
            "text/plain": [
              "array([1, 1, 1, 2, 2, 2, 3, 3, 3])"
            ]
          },
          "metadata": {
            "tags": []
          },
          "execution_count": 67
        }
      ]
    },
    {
      "cell_type": "markdown",
      "metadata": {
        "id": "gaUz3mb-krAi",
        "colab_type": "text"
      },
      "source": [
        "#vstack and hstack"
      ]
    },
    {
      "cell_type": "code",
      "metadata": {
        "id": "vZIqb9-XkHgi",
        "colab_type": "code",
        "colab": {
          "base_uri": "https://localhost:8080/",
          "height": 67
        },
        "outputId": "11c4e556-3281-44b5-b8f1-b65133f7ac67"
      },
      "source": [
        "print(np.vstack([a,a*2]))\n",
        "print(np.hstack([a,a*2]))"
      ],
      "execution_count": 82,
      "outputs": [
        {
          "output_type": "stream",
          "text": [
            "[[1 2 3]\n",
            " [2 4 6]]\n",
            "[1 2 3 2 4 6]\n"
          ],
          "name": "stdout"
        }
      ]
    },
    {
      "cell_type": "markdown",
      "metadata": {
        "id": "XZFLc3AbmDL0",
        "colab_type": "text"
      },
      "source": [
        "<h1>Array operation</h1>"
      ]
    },
    {
      "cell_type": "code",
      "metadata": {
        "id": "wyLuvms2muBU",
        "colab_type": "code",
        "colab": {}
      },
      "source": [
        "aa = np.array([[1,2,3],[4,5,6]])"
      ],
      "execution_count": 0,
      "outputs": []
    },
    {
      "cell_type": "code",
      "metadata": {
        "id": "zoliwjpnlwP3",
        "colab_type": "code",
        "colab": {
          "base_uri": "https://localhost:8080/",
          "height": 50
        },
        "outputId": "36184e7e-e8ee-49d1-c6f5-45951aeeeaa3"
      },
      "source": [
        "#addition\n",
        "aa+aa"
      ],
      "execution_count": 93,
      "outputs": [
        {
          "output_type": "execute_result",
          "data": {
            "text/plain": [
              "array([[ 2,  4,  6],\n",
              "       [ 8, 10, 12]])"
            ]
          },
          "metadata": {
            "tags": []
          },
          "execution_count": 93
        }
      ]
    },
    {
      "cell_type": "code",
      "metadata": {
        "id": "G9ZN_tMImLmx",
        "colab_type": "code",
        "colab": {
          "base_uri": "https://localhost:8080/",
          "height": 50
        },
        "outputId": "55d3a299-1855-4280-cba0-8e2311fa40e5"
      },
      "source": [
        "#subtraction\n",
        "aa-2"
      ],
      "execution_count": 95,
      "outputs": [
        {
          "output_type": "execute_result",
          "data": {
            "text/plain": [
              "array([[-1,  0,  1],\n",
              "       [ 2,  3,  4]])"
            ]
          },
          "metadata": {
            "tags": []
          },
          "execution_count": 95
        }
      ]
    },
    {
      "cell_type": "code",
      "metadata": {
        "id": "srY9aBu8mQc2",
        "colab_type": "code",
        "colab": {
          "base_uri": "https://localhost:8080/",
          "height": 50
        },
        "outputId": "3fd821fa-0da1-4cc4-bb51-86dc78d4e50c"
      },
      "source": [
        "#multiplication\n",
        "aa*2"
      ],
      "execution_count": 96,
      "outputs": [
        {
          "output_type": "execute_result",
          "data": {
            "text/plain": [
              "array([[ 2,  4,  6],\n",
              "       [ 8, 10, 12]])"
            ]
          },
          "metadata": {
            "tags": []
          },
          "execution_count": 96
        }
      ]
    },
    {
      "cell_type": "code",
      "metadata": {
        "id": "E4j3aimNmlnY",
        "colab_type": "code",
        "colab": {
          "base_uri": "https://localhost:8080/",
          "height": 50
        },
        "outputId": "88cfffd2-986b-4623-9ee3-3887ec2cfcd8"
      },
      "source": [
        "#division\n",
        "aa/2"
      ],
      "execution_count": 97,
      "outputs": [
        {
          "output_type": "execute_result",
          "data": {
            "text/plain": [
              "array([[0.5, 1. , 1.5],\n",
              "       [2. , 2.5, 3. ]])"
            ]
          },
          "metadata": {
            "tags": []
          },
          "execution_count": 97
        }
      ]
    },
    {
      "cell_type": "code",
      "metadata": {
        "id": "BRjKGmB2mR9Q",
        "colab_type": "code",
        "colab": {
          "base_uri": "https://localhost:8080/",
          "height": 34
        },
        "outputId": "853137a3-e724-46cf-d02d-12a3cf0dca37"
      },
      "source": [
        "#dot product\n",
        "np.dot(aa,a)"
      ],
      "execution_count": 100,
      "outputs": [
        {
          "output_type": "execute_result",
          "data": {
            "text/plain": [
              "array([14, 32])"
            ]
          },
          "metadata": {
            "tags": []
          },
          "execution_count": 100
        }
      ]
    },
    {
      "cell_type": "code",
      "metadata": {
        "id": "jH0fuPzsmVnA",
        "colab_type": "code",
        "colab": {
          "base_uri": "https://localhost:8080/",
          "height": 67
        },
        "outputId": "658b625b-4715-41ff-dbe9-bf387a691e8f"
      },
      "source": [
        "#transpose\n",
        "aa.T"
      ],
      "execution_count": 101,
      "outputs": [
        {
          "output_type": "execute_result",
          "data": {
            "text/plain": [
              "array([[1, 4],\n",
              "       [2, 5],\n",
              "       [3, 6]])"
            ]
          },
          "metadata": {
            "tags": []
          },
          "execution_count": 101
        }
      ]
    },
    {
      "cell_type": "code",
      "metadata": {
        "id": "y1fatxH4mYhn",
        "colab_type": "code",
        "colab": {
          "base_uri": "https://localhost:8080/",
          "height": 50
        },
        "outputId": "db01a6d4-9b59-4836-e449-9b9a308ab7cb"
      },
      "source": [
        "#power\n",
        "aa**2"
      ],
      "execution_count": 103,
      "outputs": [
        {
          "output_type": "execute_result",
          "data": {
            "text/plain": [
              "array([[ 1,  4,  9],\n",
              "       [16, 25, 36]])"
            ]
          },
          "metadata": {
            "tags": []
          },
          "execution_count": 103
        }
      ]
    },
    {
      "cell_type": "code",
      "metadata": {
        "id": "c0LYVEzSnHK_",
        "colab_type": "code",
        "colab": {
          "base_uri": "https://localhost:8080/",
          "height": 50
        },
        "outputId": "9d18a5ba-e0df-4d33-eb58-5c44792e9e87"
      },
      "source": [
        "#casting array to different type\n",
        "aaa = aa.astype('float64')\n",
        "aaa"
      ],
      "execution_count": 107,
      "outputs": [
        {
          "output_type": "execute_result",
          "data": {
            "text/plain": [
              "array([[1., 2., 3.],\n",
              "       [4., 5., 6.]])"
            ]
          },
          "metadata": {
            "tags": []
          },
          "execution_count": 107
        }
      ]
    },
    {
      "cell_type": "code",
      "metadata": {
        "id": "RQZy6wtRndvo",
        "colab_type": "code",
        "colab": {
          "base_uri": "https://localhost:8080/",
          "height": 34
        },
        "outputId": "fabae255-8329-4d7c-93d8-06c736042e93"
      },
      "source": [
        "#sum of all values\n",
        "aa.sum()"
      ],
      "execution_count": 108,
      "outputs": [
        {
          "output_type": "execute_result",
          "data": {
            "text/plain": [
              "21"
            ]
          },
          "metadata": {
            "tags": []
          },
          "execution_count": 108
        }
      ]
    },
    {
      "cell_type": "code",
      "metadata": {
        "id": "UQObs7WinqpQ",
        "colab_type": "code",
        "colab": {
          "base_uri": "https://localhost:8080/",
          "height": 34
        },
        "outputId": "b4a7d7fd-8084-47b9-efac-7fbe1cab97e5"
      },
      "source": [
        "#maximum value\n",
        "aa.max()"
      ],
      "execution_count": 109,
      "outputs": [
        {
          "output_type": "execute_result",
          "data": {
            "text/plain": [
              "6"
            ]
          },
          "metadata": {
            "tags": []
          },
          "execution_count": 109
        }
      ]
    },
    {
      "cell_type": "code",
      "metadata": {
        "id": "glxSOmuknr77",
        "colab_type": "code",
        "colab": {
          "base_uri": "https://localhost:8080/",
          "height": 34
        },
        "outputId": "cc7f9655-bb0d-4c6c-f575-f3db56908958"
      },
      "source": [
        "#minimun value\n",
        "aa.min()"
      ],
      "execution_count": 110,
      "outputs": [
        {
          "output_type": "execute_result",
          "data": {
            "text/plain": [
              "1"
            ]
          },
          "metadata": {
            "tags": []
          },
          "execution_count": 110
        }
      ]
    },
    {
      "cell_type": "code",
      "metadata": {
        "id": "SfYd6m2bnt4O",
        "colab_type": "code",
        "colab": {
          "base_uri": "https://localhost:8080/",
          "height": 34
        },
        "outputId": "67db9665-048e-4f23-d472-0d09ec87f1c1"
      },
      "source": [
        "#mean\n",
        "aa.mean()"
      ],
      "execution_count": 111,
      "outputs": [
        {
          "output_type": "execute_result",
          "data": {
            "text/plain": [
              "3.5"
            ]
          },
          "metadata": {
            "tags": []
          },
          "execution_count": 111
        }
      ]
    },
    {
      "cell_type": "code",
      "metadata": {
        "id": "UgQYuzksnyBk",
        "colab_type": "code",
        "colab": {
          "base_uri": "https://localhost:8080/",
          "height": 34
        },
        "outputId": "af68772e-10c0-455d-fe5a-d39f54416486"
      },
      "source": [
        "#standard deviation\n",
        "aa.std()"
      ],
      "execution_count": 112,
      "outputs": [
        {
          "output_type": "execute_result",
          "data": {
            "text/plain": [
              "1.707825127659933"
            ]
          },
          "metadata": {
            "tags": []
          },
          "execution_count": 112
        }
      ]
    },
    {
      "cell_type": "code",
      "metadata": {
        "id": "MYlsvLPan6Ek",
        "colab_type": "code",
        "colab": {
          "base_uri": "https://localhost:8080/",
          "height": 34
        },
        "outputId": "c5084798-dbf0-48f3-81c2-881c94e7cfb7"
      },
      "source": [
        "#for index of min value\n",
        "aa.argmin()"
      ],
      "execution_count": 113,
      "outputs": [
        {
          "output_type": "execute_result",
          "data": {
            "text/plain": [
              "0"
            ]
          },
          "metadata": {
            "tags": []
          },
          "execution_count": 113
        }
      ]
    },
    {
      "cell_type": "code",
      "metadata": {
        "id": "p0mbxh-LoCuq",
        "colab_type": "code",
        "colab": {
          "base_uri": "https://localhost:8080/",
          "height": 34
        },
        "outputId": "fdc272e3-7db1-4bda-9301-e3a145f73ae6"
      },
      "source": [
        "#for index of max value\n",
        "aa.argmax()"
      ],
      "execution_count": 114,
      "outputs": [
        {
          "output_type": "execute_result",
          "data": {
            "text/plain": [
              "5"
            ]
          },
          "metadata": {
            "tags": []
          },
          "execution_count": 114
        }
      ]
    },
    {
      "cell_type": "markdown",
      "metadata": {
        "id": "AKfJEqHAo94-",
        "colab_type": "text"
      },
      "source": [
        "#Slicing"
      ]
    },
    {
      "cell_type": "code",
      "metadata": {
        "id": "bJvPbn4VoEiQ",
        "colab_type": "code",
        "colab": {
          "base_uri": "https://localhost:8080/",
          "height": 50
        },
        "outputId": "411c66bf-a97d-46f4-9133-c9425da9f829"
      },
      "source": [
        "b = np.arange(20)\n",
        "b"
      ],
      "execution_count": 116,
      "outputs": [
        {
          "output_type": "execute_result",
          "data": {
            "text/plain": [
              "array([ 0,  1,  2,  3,  4,  5,  6,  7,  8,  9, 10, 11, 12, 13, 14, 15, 16,\n",
              "       17, 18, 19])"
            ]
          },
          "metadata": {
            "tags": []
          },
          "execution_count": 116
        }
      ]
    },
    {
      "cell_type": "code",
      "metadata": {
        "id": "gtMRtFj6pJdn",
        "colab_type": "code",
        "colab": {
          "base_uri": "https://localhost:8080/",
          "height": 34
        },
        "outputId": "e6546f2f-8e66-4aff-d200-e43dd372b863"
      },
      "source": [
        "#first element\n",
        "b[0]"
      ],
      "execution_count": 123,
      "outputs": [
        {
          "output_type": "execute_result",
          "data": {
            "text/plain": [
              "0"
            ]
          },
          "metadata": {
            "tags": []
          },
          "execution_count": 123
        }
      ]
    },
    {
      "cell_type": "code",
      "metadata": {
        "id": "HgmMju6RpQRe",
        "colab_type": "code",
        "colab": {
          "base_uri": "https://localhost:8080/",
          "height": 50
        },
        "outputId": "08d66b24-b67d-41a7-a37a-03ab74109322"
      },
      "source": [
        "#last element\n",
        "print(b[len(b)-1])\n",
        "#easy way\n",
        "print(b[-1])"
      ],
      "execution_count": 132,
      "outputs": [
        {
          "output_type": "stream",
          "text": [
            "19\n",
            "19\n"
          ],
          "name": "stdout"
        }
      ]
    },
    {
      "cell_type": "code",
      "metadata": {
        "id": "4NSFqTQbrHyd",
        "colab_type": "code",
        "colab": {
          "base_uri": "https://localhost:8080/",
          "height": 34
        },
        "outputId": "d39d46b2-fb95-492e-cca1-531ce4bf004a"
      },
      "source": [
        "#second last element\n",
        "b[-2]"
      ],
      "execution_count": 134,
      "outputs": [
        {
          "output_type": "execute_result",
          "data": {
            "text/plain": [
              "18"
            ]
          },
          "metadata": {
            "tags": []
          },
          "execution_count": 134
        }
      ]
    },
    {
      "cell_type": "code",
      "metadata": {
        "id": "t_UO6rVbpqcU",
        "colab_type": "code",
        "colab": {
          "base_uri": "https://localhost:8080/",
          "height": 34
        },
        "outputId": "f9bd299d-22c7-4910-8d3f-80d1b8afd7b8"
      },
      "source": [
        "#first five element\n",
        "b[0:5]"
      ],
      "execution_count": 126,
      "outputs": [
        {
          "output_type": "execute_result",
          "data": {
            "text/plain": [
              "array([0, 1, 2, 3, 4])"
            ]
          },
          "metadata": {
            "tags": []
          },
          "execution_count": 126
        }
      ]
    },
    {
      "cell_type": "code",
      "metadata": {
        "id": "tZhIQUCppt3F",
        "colab_type": "code",
        "colab": {
          "base_uri": "https://localhost:8080/",
          "height": 34
        },
        "outputId": "61fe37ac-f19a-4a2b-f18a-030fc7052361"
      },
      "source": [
        "#elements from index 5 to 10(10th element not included)\n",
        "b[5:10]"
      ],
      "execution_count": 128,
      "outputs": [
        {
          "output_type": "execute_result",
          "data": {
            "text/plain": [
              "array([5, 6, 7, 8, 9])"
            ]
          },
          "metadata": {
            "tags": []
          },
          "execution_count": 128
        }
      ]
    },
    {
      "cell_type": "code",
      "metadata": {
        "id": "aK6wzf0Qp3V1",
        "colab_type": "code",
        "colab": {
          "base_uri": "https://localhost:8080/",
          "height": 34
        },
        "outputId": "f31ef96c-4554-4727-d4b5-b5ea9f2f618b"
      },
      "source": [
        "#element from index 5 to end of array\n",
        "b[5:]"
      ],
      "execution_count": 129,
      "outputs": [
        {
          "output_type": "execute_result",
          "data": {
            "text/plain": [
              "array([ 5,  6,  7,  8,  9, 10, 11, 12, 13, 14, 15, 16, 17, 18, 19])"
            ]
          },
          "metadata": {
            "tags": []
          },
          "execution_count": 129
        }
      ]
    },
    {
      "cell_type": "code",
      "metadata": {
        "id": "u0kvYj_hqm-v",
        "colab_type": "code",
        "colab": {
          "base_uri": "https://localhost:8080/",
          "height": 34
        },
        "outputId": "5a29763a-b899-4ad3-cc11-22bc16244c21"
      },
      "source": [
        "#element from start of array to index 16\n",
        "b[:16]"
      ],
      "execution_count": 130,
      "outputs": [
        {
          "output_type": "execute_result",
          "data": {
            "text/plain": [
              "array([ 0,  1,  2,  3,  4,  5,  6,  7,  8,  9, 10, 11, 12, 13, 14, 15])"
            ]
          },
          "metadata": {
            "tags": []
          },
          "execution_count": 130
        }
      ]
    },
    {
      "cell_type": "code",
      "metadata": {
        "id": "kzQuqXm8rV8k",
        "colab_type": "code",
        "colab": {
          "base_uri": "https://localhost:8080/",
          "height": 34
        },
        "outputId": "0257c3a6-4844-4fe6-8d5d-9897f8ce123f"
      },
      "source": [
        "#from last to first\n",
        "b[-4:]"
      ],
      "execution_count": 143,
      "outputs": [
        {
          "output_type": "execute_result",
          "data": {
            "text/plain": [
              "array([16, 17, 18, 19])"
            ]
          },
          "metadata": {
            "tags": []
          },
          "execution_count": 143
        }
      ]
    },
    {
      "cell_type": "code",
      "metadata": {
        "id": "X6oVd3irrXiJ",
        "colab_type": "code",
        "colab": {
          "base_uri": "https://localhost:8080/",
          "height": 34
        },
        "outputId": "fd139244-adc3-4abb-b30e-471f2a2f613f"
      },
      "source": [
        "b[-4::-2]"
      ],
      "execution_count": 146,
      "outputs": [
        {
          "output_type": "execute_result",
          "data": {
            "text/plain": [
              "array([16, 14, 12, 10,  8,  6,  4,  2,  0])"
            ]
          },
          "metadata": {
            "tags": []
          },
          "execution_count": 146
        }
      ]
    },
    {
      "cell_type": "markdown",
      "metadata": {
        "id": "N349U3ohsWSi",
        "colab_type": "text"
      },
      "source": [
        "#Slicing for 2D array"
      ]
    },
    {
      "cell_type": "code",
      "metadata": {
        "id": "U9Rjn0Vlry1s",
        "colab_type": "code",
        "colab": {
          "base_uri": "https://localhost:8080/",
          "height": 101
        },
        "outputId": "f8beaad0-b357-4963-cd5b-cbc679131c6c"
      },
      "source": [
        "s = np.arange(25)\n",
        "s= s.reshape((5,5))\n",
        "s"
      ],
      "execution_count": 167,
      "outputs": [
        {
          "output_type": "execute_result",
          "data": {
            "text/plain": [
              "array([[ 0,  1,  2,  3,  4],\n",
              "       [ 5,  6,  7,  8,  9],\n",
              "       [10, 11, 12, 13, 14],\n",
              "       [15, 16, 17, 18, 19],\n",
              "       [20, 21, 22, 23, 24]])"
            ]
          },
          "metadata": {
            "tags": []
          },
          "execution_count": 167
        }
      ]
    },
    {
      "cell_type": "code",
      "metadata": {
        "id": "Bt_dlSnysm6m",
        "colab_type": "code",
        "colab": {
          "base_uri": "https://localhost:8080/",
          "height": 34
        },
        "outputId": "132622db-cd67-4e3f-8695-3bcacf9acb18"
      },
      "source": [
        "s[0,4]"
      ],
      "execution_count": 166,
      "outputs": [
        {
          "output_type": "execute_result",
          "data": {
            "text/plain": [
              "4"
            ]
          },
          "metadata": {
            "tags": []
          },
          "execution_count": 166
        }
      ]
    },
    {
      "cell_type": "code",
      "metadata": {
        "id": "ufE-FBOXsv7I",
        "colab_type": "code",
        "colab": {
          "base_uri": "https://localhost:8080/",
          "height": 34
        },
        "outputId": "9d3b8dfa-5e82-4845-882c-2f17bb2b0290"
      },
      "source": [
        "s[0:,4]\n"
      ],
      "execution_count": 171,
      "outputs": [
        {
          "output_type": "execute_result",
          "data": {
            "text/plain": [
              "array([ 4,  9, 14, 19, 24])"
            ]
          },
          "metadata": {
            "tags": []
          },
          "execution_count": 171
        }
      ]
    },
    {
      "cell_type": "code",
      "metadata": {
        "id": "RXblolYgt4OK",
        "colab_type": "code",
        "colab": {
          "base_uri": "https://localhost:8080/",
          "height": 50
        },
        "outputId": "adf8fb3f-a399-459b-ed16-bf535cdbdaf7"
      },
      "source": [
        "#every second element of last row\n",
        "print(s[-1, ::2])\n",
        "\n",
        "#every second element of first row\n",
        "print(s[0,::2])"
      ],
      "execution_count": 178,
      "outputs": [
        {
          "output_type": "stream",
          "text": [
            "[20 22 24]\n",
            "[0 2 4]\n"
          ],
          "name": "stdout"
        }
      ]
    },
    {
      "cell_type": "code",
      "metadata": {
        "id": "3b6DYyHy9VNv",
        "colab_type": "code",
        "colab": {
          "base_uri": "https://localhost:8080/",
          "height": 101
        },
        "outputId": "961e7f18-2395-4bab-fe00-5655d8ab3652"
      },
      "source": [
        "#elements greater than 6 replacing it with 20\n",
        "s[s>6] = 20 \n",
        "s"
      ],
      "execution_count": 183,
      "outputs": [
        {
          "output_type": "execute_result",
          "data": {
            "text/plain": [
              "array([[ 0,  1,  2,  3,  4],\n",
              "       [ 5,  6, 20, 20, 20],\n",
              "       [20, 20, 20, 20, 20],\n",
              "       [20, 20, 20, 20, 20],\n",
              "       [20, 20, 20, 20, 20]])"
            ]
          },
          "metadata": {
            "tags": []
          },
          "execution_count": 183
        }
      ]
    },
    {
      "cell_type": "code",
      "metadata": {
        "id": "jKzAdL2t-G08",
        "colab_type": "code",
        "colab": {
          "base_uri": "https://localhost:8080/",
          "height": 67
        },
        "outputId": "8add0c27-1820-4884-9579-6a48488794c6"
      },
      "source": [
        "s2 = s[:3,:3]\n",
        "s2[:]=0\n",
        "s2"
      ],
      "execution_count": 185,
      "outputs": [
        {
          "output_type": "execute_result",
          "data": {
            "text/plain": [
              "array([[0, 0, 0],\n",
              "       [0, 0, 0],\n",
              "       [0, 0, 0]])"
            ]
          },
          "metadata": {
            "tags": []
          },
          "execution_count": 185
        }
      ]
    },
    {
      "cell_type": "code",
      "metadata": {
        "id": "C9Qo0RLK_H4x",
        "colab_type": "code",
        "colab": {
          "base_uri": "https://localhost:8080/",
          "height": 101
        },
        "outputId": "26efdcde-def1-4e36-b1c5-1d8fcc11172d"
      },
      "source": [
        "#by changing the values of s2, original array s will also be changed\n",
        "print(s)"
      ],
      "execution_count": 187,
      "outputs": [
        {
          "output_type": "stream",
          "text": [
            "[[ 0  0  0  3  4]\n",
            " [ 0  0  0 20 20]\n",
            " [ 0  0  0 20 20]\n",
            " [20 20 20 20 20]\n",
            " [20 20 20 20 20]]\n"
          ],
          "name": "stdout"
        }
      ]
    },
    {
      "cell_type": "code",
      "metadata": {
        "id": "nwYClzl8_OkW",
        "colab_type": "code",
        "colab": {
          "base_uri": "https://localhost:8080/",
          "height": 101
        },
        "outputId": "19d96301-4d7a-400c-d3df-65ed5214841d"
      },
      "source": [
        "#to copy an array \n",
        "s3 = s.copy()\n",
        "s3[:3,:3]= 2\n",
        "s3"
      ],
      "execution_count": 193,
      "outputs": [
        {
          "output_type": "execute_result",
          "data": {
            "text/plain": [
              "array([[ 2,  2,  2,  3,  4],\n",
              "       [ 2,  2,  2, 20, 20],\n",
              "       [ 2,  2,  2, 20, 20],\n",
              "       [20, 20, 20, 20, 20],\n",
              "       [20, 20, 20, 20, 20]])"
            ]
          },
          "metadata": {
            "tags": []
          },
          "execution_count": 193
        }
      ]
    },
    {
      "cell_type": "code",
      "metadata": {
        "id": "ypci_GZvAQ2v",
        "colab_type": "code",
        "colab": {
          "base_uri": "https://localhost:8080/",
          "height": 101
        },
        "outputId": "7d0cb4d2-3159-430d-a01b-1366320c8443"
      },
      "source": [
        "#by changing the values of s3, original array will remain same\n",
        "s"
      ],
      "execution_count": 201,
      "outputs": [
        {
          "output_type": "execute_result",
          "data": {
            "text/plain": [
              "array([[ 0,  0,  0,  3,  4],\n",
              "       [ 0,  0,  0, 20, 20],\n",
              "       [ 0,  0,  0, 20, 20],\n",
              "       [20, 20, 20, 20, 20],\n",
              "       [20, 20, 20, 20, 20]])"
            ]
          },
          "metadata": {
            "tags": []
          },
          "execution_count": 201
        }
      ]
    },
    {
      "cell_type": "markdown",
      "metadata": {
        "id": "3p_GDQtoB7p_",
        "colab_type": "text"
      },
      "source": [
        "#Iterating over Arrays"
      ]
    },
    {
      "cell_type": "code",
      "metadata": {
        "id": "gc7Os9dUAlgi",
        "colab_type": "code",
        "colab": {
          "base_uri": "https://localhost:8080/",
          "height": 101
        },
        "outputId": "944bfd3c-8c79-4cb9-cd44-13b548d7f203"
      },
      "source": [
        "#creating arrays with random elements\n",
        "itr = np.random.randint(0,10,(5,4))\n",
        "itr"
      ],
      "execution_count": 208,
      "outputs": [
        {
          "output_type": "execute_result",
          "data": {
            "text/plain": [
              "array([[6, 9, 1, 2],\n",
              "       [6, 6, 7, 9],\n",
              "       [8, 8, 1, 3],\n",
              "       [3, 6, 2, 4],\n",
              "       [8, 2, 1, 5]])"
            ]
          },
          "metadata": {
            "tags": []
          },
          "execution_count": 208
        }
      ]
    },
    {
      "cell_type": "code",
      "metadata": {
        "id": "PLEE8zQrBX2w",
        "colab_type": "code",
        "colab": {
          "base_uri": "https://localhost:8080/",
          "height": 101
        },
        "outputId": "a5af85ea-0fd4-4dbc-cec8-f65825ccf7bd"
      },
      "source": [
        "for row in itr:\n",
        "  print(row)"
      ],
      "execution_count": 220,
      "outputs": [
        {
          "output_type": "stream",
          "text": [
            "[6 9 1 2]\n",
            "[6 6 7 9]\n",
            "[8 8 1 3]\n",
            "[3 6 2 4]\n",
            "[8 2 1 5]\n"
          ],
          "name": "stdout"
        }
      ]
    },
    {
      "cell_type": "code",
      "metadata": {
        "id": "y-uzkYBdC0zR",
        "colab_type": "code",
        "colab": {
          "base_uri": "https://localhost:8080/",
          "height": 101
        },
        "outputId": "2168beb6-d694-479c-84b5-8c34591b1a6c"
      },
      "source": [
        "for i in range(len(itr)):\n",
        "  print(itr[i])\n",
        "\n"
      ],
      "execution_count": 218,
      "outputs": [
        {
          "output_type": "stream",
          "text": [
            "[6 9 1 2]\n",
            "[6 6 7 9]\n",
            "[8 8 1 3]\n",
            "[3 6 2 4]\n",
            "[8 2 1 5]\n"
          ],
          "name": "stdout"
        }
      ]
    },
    {
      "cell_type": "code",
      "metadata": {
        "id": "O8xZW9FtDuxx",
        "colab_type": "code",
        "colab": {
          "base_uri": "https://localhost:8080/",
          "height": 101
        },
        "outputId": "ee37fa54-c7b5-491a-c05d-290cf068bfe5"
      },
      "source": [
        "list(enumerate(itr))"
      ],
      "execution_count": 225,
      "outputs": [
        {
          "output_type": "execute_result",
          "data": {
            "text/plain": [
              "[(0, array([6, 9, 1, 2])),\n",
              " (1, array([6, 6, 7, 9])),\n",
              " (2, array([8, 8, 1, 3])),\n",
              " (3, array([3, 6, 2, 4])),\n",
              " (4, array([8, 2, 1, 5]))]"
            ]
          },
          "metadata": {
            "tags": []
          },
          "execution_count": 225
        }
      ]
    },
    {
      "cell_type": "code",
      "metadata": {
        "id": "a8WrvWJvEHFt",
        "colab_type": "code",
        "colab": {
          "base_uri": "https://localhost:8080/",
          "height": 101
        },
        "outputId": "5f67ebf8-b528-4f62-a3af-0ee81861d527"
      },
      "source": [
        "for i,row in enumerate(itr):\n",
        "  print('row',i,'is',row)"
      ],
      "execution_count": 227,
      "outputs": [
        {
          "output_type": "stream",
          "text": [
            "row 0 is [6 9 1 2]\n",
            "row 1 is [6 6 7 9]\n",
            "row 2 is [8 8 1 3]\n",
            "row 3 is [3 6 2 4]\n",
            "row 4 is [8 2 1 5]\n"
          ],
          "name": "stdout"
        }
      ]
    },
    {
      "cell_type": "code",
      "metadata": {
        "id": "nmbs8wyVEh4u",
        "colab_type": "code",
        "colab": {
          "base_uri": "https://localhost:8080/",
          "height": 101
        },
        "outputId": "ef64e3a0-f6f0-47e1-e811-de705f4fbe03"
      },
      "source": [
        "itr2 = itr*2\n",
        "itr2"
      ],
      "execution_count": 232,
      "outputs": [
        {
          "output_type": "execute_result",
          "data": {
            "text/plain": [
              "array([[12, 18,  2,  4],\n",
              "       [12, 12, 14, 18],\n",
              "       [16, 16,  2,  6],\n",
              "       [ 6, 12,  4,  8],\n",
              "       [16,  4,  2, 10]])"
            ]
          },
          "metadata": {
            "tags": []
          },
          "execution_count": 232
        }
      ]
    },
    {
      "cell_type": "code",
      "metadata": {
        "id": "GQXH-p_xEzBx",
        "colab_type": "code",
        "colab": {
          "base_uri": "https://localhost:8080/",
          "height": 101
        },
        "outputId": "5e413468-1643-4533-9223-68ab3de8dccf"
      },
      "source": [
        "for i,j in zip(itr,itr2):\n",
        "  print(i,' * ',j,' = ',i*j)"
      ],
      "execution_count": 233,
      "outputs": [
        {
          "output_type": "stream",
          "text": [
            "[6 9 1 2]  *  [12 18  2  4]  =  [ 72 162   2   8]\n",
            "[6 6 7 9]  *  [12 12 14 18]  =  [ 72  72  98 162]\n",
            "[8 8 1 3]  *  [16 16  2  6]  =  [128 128   2  18]\n",
            "[3 6 2 4]  *  [ 6 12  4  8]  =  [18 72  8 32]\n",
            "[8 2 1 5]  *  [16  4  2 10]  =  [128   8   2  50]\n"
          ],
          "name": "stdout"
        }
      ]
    }
  ]
}